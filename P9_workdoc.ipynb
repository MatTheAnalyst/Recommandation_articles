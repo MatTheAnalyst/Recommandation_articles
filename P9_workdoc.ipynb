{
 "cells": [
  {
   "cell_type": "code",
   "execution_count": 1,
   "metadata": {},
   "outputs": [],
   "source": [
    "import warnings\n",
    "warnings.simplefilter(action='ignore', category=FutureWarning)\n",
    "import pandas as pd\n",
    "from numpy.linalg import norm\n",
    "import pickle\n",
    "from pathlib import Path \n",
    "import matplotlib.pyplot as plt\n",
    "import seaborn as sns\n",
    "from sklearn.metrics.pairwise import cosine_similarity\n",
    "import numpy as np\n",
    "from sklearn.decomposition import TruncatedSVD\n",
    "from scipy.sparse import csr_matrix\n",
    "import itertools\n",
    "from collections import defaultdict\n",
    "import h5py"
   ]
  },
  {
   "cell_type": "markdown",
   "metadata": {},
   "source": [
    "# Data preprocessing"
   ]
  },
  {
   "cell_type": "markdown",
   "metadata": {},
   "source": [
    "Import of data."
   ]
  },
  {
   "cell_type": "code",
   "execution_count": 2,
   "metadata": {},
   "outputs": [],
   "source": [
    "metadata = pd.read_csv('raw_data/articles_metadata.csv')\n",
    "clicks_files_path = Path('raw_data/clicks')"
   ]
  },
  {
   "cell_type": "markdown",
   "metadata": {},
   "source": [
    "Concatenation of all clicks files."
   ]
  },
  {
   "cell_type": "code",
   "execution_count": 3,
   "metadata": {},
   "outputs": [],
   "source": [
    "clicks = pd.DataFrame()\n",
    "\n",
    "for file in clicks_files_path.glob('*.csv'):\n",
    "    table_file = pd.read_csv(file)\n",
    "    clicks = pd.concat([clicks, table_file], ignore_index=True)"
   ]
  },
  {
   "cell_type": "code",
   "execution_count": 4,
   "metadata": {},
   "outputs": [
    {
     "data": {
      "text/html": [
       "<div>\n",
       "<style scoped>\n",
       "    .dataframe tbody tr th:only-of-type {\n",
       "        vertical-align: middle;\n",
       "    }\n",
       "\n",
       "    .dataframe tbody tr th {\n",
       "        vertical-align: top;\n",
       "    }\n",
       "\n",
       "    .dataframe thead th {\n",
       "        text-align: right;\n",
       "    }\n",
       "</style>\n",
       "<table border=\"1\" class=\"dataframe\">\n",
       "  <thead>\n",
       "    <tr style=\"text-align: right;\">\n",
       "      <th></th>\n",
       "      <th>user_id</th>\n",
       "      <th>session_id</th>\n",
       "      <th>session_start</th>\n",
       "      <th>session_size</th>\n",
       "      <th>click_article_id</th>\n",
       "      <th>click_timestamp</th>\n",
       "      <th>click_environment</th>\n",
       "      <th>click_deviceGroup</th>\n",
       "      <th>click_os</th>\n",
       "      <th>click_country</th>\n",
       "      <th>click_region</th>\n",
       "      <th>click_referrer_type</th>\n",
       "    </tr>\n",
       "  </thead>\n",
       "  <tbody>\n",
       "    <tr>\n",
       "      <th>0</th>\n",
       "      <td>93863</td>\n",
       "      <td>1507865792177843</td>\n",
       "      <td>1507865792000</td>\n",
       "      <td>2</td>\n",
       "      <td>96210</td>\n",
       "      <td>1507865832925</td>\n",
       "      <td>4</td>\n",
       "      <td>3</td>\n",
       "      <td>2</td>\n",
       "      <td>1</td>\n",
       "      <td>21</td>\n",
       "      <td>2</td>\n",
       "    </tr>\n",
       "    <tr>\n",
       "      <th>1</th>\n",
       "      <td>93863</td>\n",
       "      <td>1507865792177843</td>\n",
       "      <td>1507865792000</td>\n",
       "      <td>2</td>\n",
       "      <td>158094</td>\n",
       "      <td>1507865862925</td>\n",
       "      <td>4</td>\n",
       "      <td>3</td>\n",
       "      <td>2</td>\n",
       "      <td>1</td>\n",
       "      <td>21</td>\n",
       "      <td>2</td>\n",
       "    </tr>\n",
       "    <tr>\n",
       "      <th>2</th>\n",
       "      <td>294036</td>\n",
       "      <td>1507865795185844</td>\n",
       "      <td>1507865795000</td>\n",
       "      <td>2</td>\n",
       "      <td>20691</td>\n",
       "      <td>1507865819095</td>\n",
       "      <td>4</td>\n",
       "      <td>3</td>\n",
       "      <td>20</td>\n",
       "      <td>1</td>\n",
       "      <td>9</td>\n",
       "      <td>2</td>\n",
       "    </tr>\n",
       "    <tr>\n",
       "      <th>3</th>\n",
       "      <td>294036</td>\n",
       "      <td>1507865795185844</td>\n",
       "      <td>1507865795000</td>\n",
       "      <td>2</td>\n",
       "      <td>96210</td>\n",
       "      <td>1507865849095</td>\n",
       "      <td>4</td>\n",
       "      <td>3</td>\n",
       "      <td>20</td>\n",
       "      <td>1</td>\n",
       "      <td>9</td>\n",
       "      <td>2</td>\n",
       "    </tr>\n",
       "    <tr>\n",
       "      <th>4</th>\n",
       "      <td>77136</td>\n",
       "      <td>1507865796257845</td>\n",
       "      <td>1507865796000</td>\n",
       "      <td>2</td>\n",
       "      <td>336245</td>\n",
       "      <td>1507866133178</td>\n",
       "      <td>4</td>\n",
       "      <td>3</td>\n",
       "      <td>2</td>\n",
       "      <td>1</td>\n",
       "      <td>25</td>\n",
       "      <td>2</td>\n",
       "    </tr>\n",
       "  </tbody>\n",
       "</table>\n",
       "</div>"
      ],
      "text/plain": [
       "  user_id        session_id  session_start session_size click_article_id  \\\n",
       "0   93863  1507865792177843  1507865792000            2            96210   \n",
       "1   93863  1507865792177843  1507865792000            2           158094   \n",
       "2  294036  1507865795185844  1507865795000            2            20691   \n",
       "3  294036  1507865795185844  1507865795000            2            96210   \n",
       "4   77136  1507865796257845  1507865796000            2           336245   \n",
       "\n",
       "  click_timestamp click_environment click_deviceGroup click_os click_country  \\\n",
       "0   1507865832925                 4                 3        2             1   \n",
       "1   1507865862925                 4                 3        2             1   \n",
       "2   1507865819095                 4                 3       20             1   \n",
       "3   1507865849095                 4                 3       20             1   \n",
       "4   1507866133178                 4                 3        2             1   \n",
       "\n",
       "  click_region click_referrer_type  \n",
       "0           21                   2  \n",
       "1           21                   2  \n",
       "2            9                   2  \n",
       "3            9                   2  \n",
       "4           25                   2  "
      ]
     },
     "execution_count": 4,
     "metadata": {},
     "output_type": "execute_result"
    }
   ],
   "source": [
    "clicks.head()"
   ]
  },
  {
   "cell_type": "code",
   "execution_count": 5,
   "metadata": {},
   "outputs": [
    {
     "data": {
      "text/plain": [
       "384.98777777777775"
      ]
     },
     "execution_count": 5,
     "metadata": {},
     "output_type": "execute_result"
    }
   ],
   "source": [
    "# Check if I have 384 hours of information.\n",
    "(clicks['session_start'].max() - clicks['session_start'].min()) / 3600000"
   ]
  },
  {
   "cell_type": "code",
   "execution_count": 6,
   "metadata": {},
   "outputs": [],
   "source": [
    "# Convert to datetime.\n",
    "clicks['session_start'] = pd.to_datetime(clicks['session_start'], unit='ms')\n",
    "clicks['click_timestamp'] = pd.to_datetime(clicks['click_timestamp'], unit='ms')\n",
    "metadata['created_at_ts'] = pd.to_datetime(metadata['created_at_ts'], unit='ms')"
   ]
  },
  {
   "cell_type": "code",
   "execution_count": 7,
   "metadata": {},
   "outputs": [
    {
     "data": {
      "text/plain": [
       "_merge\n",
       "both          2988181\n",
       "left_only           0\n",
       "right_only          0\n",
       "Name: count, dtype: int64"
      ]
     },
     "execution_count": 7,
     "metadata": {},
     "output_type": "execute_result"
    }
   ],
   "source": [
    "# First, check if I have metadata for all article_id in clicks.\n",
    "pd.merge(left=clicks, right=metadata, left_on='click_article_id', right_on='article_id', how='left', indicator=True)['_merge'].value_counts() "
   ]
  },
  {
   "cell_type": "markdown",
   "metadata": {},
   "source": [
    "Join clicks and metadata of articles."
   ]
  },
  {
   "cell_type": "code",
   "execution_count": 8,
   "metadata": {},
   "outputs": [],
   "source": [
    "data = pd.merge(left=clicks, right=metadata, left_on='click_article_id', right_on='article_id', how='left') "
   ]
  },
  {
   "cell_type": "code",
   "execution_count": 9,
   "metadata": {},
   "outputs": [
    {
     "data": {
      "text/html": [
       "<div>\n",
       "<style scoped>\n",
       "    .dataframe tbody tr th:only-of-type {\n",
       "        vertical-align: middle;\n",
       "    }\n",
       "\n",
       "    .dataframe tbody tr th {\n",
       "        vertical-align: top;\n",
       "    }\n",
       "\n",
       "    .dataframe thead th {\n",
       "        text-align: right;\n",
       "    }\n",
       "</style>\n",
       "<table border=\"1\" class=\"dataframe\">\n",
       "  <thead>\n",
       "    <tr style=\"text-align: right;\">\n",
       "      <th></th>\n",
       "      <th>user_id</th>\n",
       "      <th>session_id</th>\n",
       "      <th>session_start</th>\n",
       "      <th>session_size</th>\n",
       "      <th>click_article_id</th>\n",
       "      <th>click_timestamp</th>\n",
       "      <th>click_environment</th>\n",
       "      <th>click_deviceGroup</th>\n",
       "      <th>click_os</th>\n",
       "      <th>click_country</th>\n",
       "      <th>click_region</th>\n",
       "      <th>click_referrer_type</th>\n",
       "      <th>article_id</th>\n",
       "      <th>category_id</th>\n",
       "      <th>created_at_ts</th>\n",
       "      <th>publisher_id</th>\n",
       "      <th>words_count</th>\n",
       "    </tr>\n",
       "  </thead>\n",
       "  <tbody>\n",
       "    <tr>\n",
       "      <th>0</th>\n",
       "      <td>93863</td>\n",
       "      <td>1507865792177843</td>\n",
       "      <td>2017-10-13 03:36:32</td>\n",
       "      <td>2</td>\n",
       "      <td>96210</td>\n",
       "      <td>2017-10-13 03:37:12.925</td>\n",
       "      <td>4</td>\n",
       "      <td>3</td>\n",
       "      <td>2</td>\n",
       "      <td>1</td>\n",
       "      <td>21</td>\n",
       "      <td>2</td>\n",
       "      <td>96210</td>\n",
       "      <td>209</td>\n",
       "      <td>2017-10-12 08:59:51</td>\n",
       "      <td>0</td>\n",
       "      <td>274</td>\n",
       "    </tr>\n",
       "    <tr>\n",
       "      <th>1</th>\n",
       "      <td>93863</td>\n",
       "      <td>1507865792177843</td>\n",
       "      <td>2017-10-13 03:36:32</td>\n",
       "      <td>2</td>\n",
       "      <td>158094</td>\n",
       "      <td>2017-10-13 03:37:42.925</td>\n",
       "      <td>4</td>\n",
       "      <td>3</td>\n",
       "      <td>2</td>\n",
       "      <td>1</td>\n",
       "      <td>21</td>\n",
       "      <td>2</td>\n",
       "      <td>158094</td>\n",
       "      <td>281</td>\n",
       "      <td>2017-10-12 10:22:31</td>\n",
       "      <td>0</td>\n",
       "      <td>223</td>\n",
       "    </tr>\n",
       "    <tr>\n",
       "      <th>2</th>\n",
       "      <td>294036</td>\n",
       "      <td>1507865795185844</td>\n",
       "      <td>2017-10-13 03:36:35</td>\n",
       "      <td>2</td>\n",
       "      <td>20691</td>\n",
       "      <td>2017-10-13 03:36:59.095</td>\n",
       "      <td>4</td>\n",
       "      <td>3</td>\n",
       "      <td>20</td>\n",
       "      <td>1</td>\n",
       "      <td>9</td>\n",
       "      <td>2</td>\n",
       "      <td>20691</td>\n",
       "      <td>9</td>\n",
       "      <td>2017-10-12 16:37:16</td>\n",
       "      <td>0</td>\n",
       "      <td>226</td>\n",
       "    </tr>\n",
       "    <tr>\n",
       "      <th>3</th>\n",
       "      <td>294036</td>\n",
       "      <td>1507865795185844</td>\n",
       "      <td>2017-10-13 03:36:35</td>\n",
       "      <td>2</td>\n",
       "      <td>96210</td>\n",
       "      <td>2017-10-13 03:37:29.095</td>\n",
       "      <td>4</td>\n",
       "      <td>3</td>\n",
       "      <td>20</td>\n",
       "      <td>1</td>\n",
       "      <td>9</td>\n",
       "      <td>2</td>\n",
       "      <td>96210</td>\n",
       "      <td>209</td>\n",
       "      <td>2017-10-12 08:59:51</td>\n",
       "      <td>0</td>\n",
       "      <td>274</td>\n",
       "    </tr>\n",
       "    <tr>\n",
       "      <th>4</th>\n",
       "      <td>77136</td>\n",
       "      <td>1507865796257845</td>\n",
       "      <td>2017-10-13 03:36:36</td>\n",
       "      <td>2</td>\n",
       "      <td>336245</td>\n",
       "      <td>2017-10-13 03:42:13.178</td>\n",
       "      <td>4</td>\n",
       "      <td>3</td>\n",
       "      <td>2</td>\n",
       "      <td>1</td>\n",
       "      <td>25</td>\n",
       "      <td>2</td>\n",
       "      <td>336245</td>\n",
       "      <td>437</td>\n",
       "      <td>2017-10-12 05:18:51</td>\n",
       "      <td>0</td>\n",
       "      <td>150</td>\n",
       "    </tr>\n",
       "  </tbody>\n",
       "</table>\n",
       "</div>"
      ],
      "text/plain": [
       "  user_id        session_id       session_start session_size click_article_id  \\\n",
       "0   93863  1507865792177843 2017-10-13 03:36:32            2            96210   \n",
       "1   93863  1507865792177843 2017-10-13 03:36:32            2           158094   \n",
       "2  294036  1507865795185844 2017-10-13 03:36:35            2            20691   \n",
       "3  294036  1507865795185844 2017-10-13 03:36:35            2            96210   \n",
       "4   77136  1507865796257845 2017-10-13 03:36:36            2           336245   \n",
       "\n",
       "          click_timestamp click_environment click_deviceGroup click_os  \\\n",
       "0 2017-10-13 03:37:12.925                 4                 3        2   \n",
       "1 2017-10-13 03:37:42.925                 4                 3        2   \n",
       "2 2017-10-13 03:36:59.095                 4                 3       20   \n",
       "3 2017-10-13 03:37:29.095                 4                 3       20   \n",
       "4 2017-10-13 03:42:13.178                 4                 3        2   \n",
       "\n",
       "  click_country click_region click_referrer_type  article_id  category_id  \\\n",
       "0             1           21                   2       96210          209   \n",
       "1             1           21                   2      158094          281   \n",
       "2             1            9                   2       20691            9   \n",
       "3             1            9                   2       96210          209   \n",
       "4             1           25                   2      336245          437   \n",
       "\n",
       "        created_at_ts  publisher_id  words_count  \n",
       "0 2017-10-12 08:59:51             0          274  \n",
       "1 2017-10-12 10:22:31             0          223  \n",
       "2 2017-10-12 16:37:16             0          226  \n",
       "3 2017-10-12 08:59:51             0          274  \n",
       "4 2017-10-12 05:18:51             0          150  "
      ]
     },
     "execution_count": 9,
     "metadata": {},
     "output_type": "execute_result"
    }
   ],
   "source": [
    "data.head()"
   ]
  },
  {
   "cell_type": "markdown",
   "metadata": {},
   "source": [
    "Now, I have to remove unrelevant data."
   ]
  },
  {
   "cell_type": "code",
   "execution_count": 10,
   "metadata": {},
   "outputs": [],
   "source": [
    "article_by_user = data.groupby('user_id', as_index=False).agg({'click_article_id': pd.Series.nunique})"
   ]
  },
  {
   "cell_type": "code",
   "execution_count": 11,
   "metadata": {},
   "outputs": [
    {
     "data": {
      "image/png": "[encoded data removed]",
      "text/plain": [
       "<Figure size 1000x500 with 1 Axes>"
      ]
     },
     "metadata": {},
     "output_type": "display_data"
    }
   ],
   "source": [
    "plt.figure(figsize=(10, 5))\n",
    "plt.plot(article_by_user['user_id'], article_by_user['click_article_id'], linestyle='-', color='#1f77b4')\n",
    "plt.title('Interactions Utilisateur-Article')\n",
    "plt.xlabel('ID Utilisateur')\n",
    "plt.ylabel('Nombre d\\'Articles')\n",
    "plt.grid(True)\n",
    "plt.show()"
   ]
  },
  {
   "cell_type": "code",
   "execution_count": 12,
   "metadata": {},
   "outputs": [],
   "source": [
    "# Remove users who clicked on fewer than 10 articles.\n",
    "users = article_by_user.loc[article_by_user['click_article_id']>10,'user_id'].to_list()"
   ]
  },
  {
   "cell_type": "code",
   "execution_count": 13,
   "metadata": {},
   "outputs": [],
   "source": [
    "user_by_article = data.groupby('click_article_id', as_index=False).agg({'user_id': pd.Series.nunique})"
   ]
  },
  {
   "cell_type": "code",
   "execution_count": 14,
   "metadata": {},
   "outputs": [
    {
     "data": {
      "image/png": "[encoded data removed]",
      "text/plain": [
       "<Figure size 1200x600 with 1 Axes>"
      ]
     },
     "metadata": {},
     "output_type": "display_data"
    }
   ],
   "source": [
    "plt.figure(figsize=(12, 6))\n",
    "plt.plot(user_by_article['click_article_id'].index, user_by_article['user_id'], linestyle='-', color='#1f77b4')\n",
    "plt.title('Nombre d\\'utilisateurs par ID d\\'article')\n",
    "plt.xlabel('ID d\\'article')\n",
    "plt.ylabel('Nombre d\\'utilisateurs')\n",
    "plt.grid(True)\n",
    "plt.show()"
   ]
  },
  {
   "cell_type": "code",
   "execution_count": 15,
   "metadata": {},
   "outputs": [],
   "source": [
    "# Remove articles with fewer than 5 views.\n",
    "articles = user_by_article.loc[user_by_article['user_id']>=5,'click_article_id'].to_list()"
   ]
  },
  {
   "cell_type": "markdown",
   "metadata": {},
   "source": [
    "Now, keep only relevant data."
   ]
  },
  {
   "cell_type": "code",
   "execution_count": 16,
   "metadata": {},
   "outputs": [],
   "source": [
    "relevant_data = data.loc[(data['user_id'].isin(users))&(data['article_id'].isin(articles)),:]"
   ]
  },
  {
   "cell_type": "markdown",
   "metadata": {},
   "source": [
    "# Train and Test sets creation"
   ]
  },
  {
   "cell_type": "code",
   "execution_count": null,
   "metadata": {},
   "outputs": [],
   "source": [
    "#train = pd.DataFrame()\n",
    "#test = pd.DataFrame()\n",
    "\n",
    "# for user in relevant_data['user_id'].unique():\n",
    "#     median_date = relevant_data.loc[relevant_data[\"user_id\"]==user,\"session_start\"].median()\n",
    "#     train = pd.concat([train, relevant_data.loc[(relevant_data[\"session_start\"]<=median_date)&(relevant_data[\"user_id\"]==user),:]])\n",
    "#     test = pd.concat([test, relevant_data.loc[(relevant_data[\"session_start\"]>median_date)&(relevant_data[\"user_id\"]==user),:]])"
   ]
  },
  {
   "cell_type": "code",
   "execution_count": null,
   "metadata": {},
   "outputs": [],
   "source": [
    "# Delete users in train set without futur data in test set.\n",
    "#train = train.loc[train['user_id'].isin(test['user_id'].unique()),:]\n",
    "\n",
    "# Delete users in test set without historical data in train set.\n",
    "#test = test.loc[test['user_id'].isin(train['user_id'].unique()),:]"
   ]
  },
  {
   "cell_type": "code",
   "execution_count": null,
   "metadata": {},
   "outputs": [],
   "source": [
    "#train.to_csv('prepare_data/train.csv', encoding='utf-8')\n",
    "#test.to_csv('prepare_data/test.csv', encoding='utf-8')"
   ]
  },
  {
   "cell_type": "markdown",
   "metadata": {},
   "source": [
    "# Baseline model"
   ]
  },
  {
   "cell_type": "code",
   "execution_count": 30,
   "metadata": {},
   "outputs": [],
   "source": [
    "train = pd.read_csv('prepare_data/train.csv')\n",
    "test = pd.read_csv('prepare_data/test.csv')\n",
    "\n",
    "# Sort my data by user and temporality.\n",
    "train = train.sort_values(['user_id', 'click_timestamp'], ascending=[True, True])\n",
    "test = test.sort_values(['user_id', 'click_timestamp'], ascending=[True, True])"
   ]
  },
  {
   "cell_type": "code",
   "execution_count": 31,
   "metadata": {},
   "outputs": [],
   "source": [
    "# Set of all unique articles and users to avoid repeated calculations\n",
    "unique_articles_train = list(train['article_id'].unique())\n",
    "unique_users = list(train['user_id'].unique())"
   ]
  },
  {
   "cell_type": "code",
   "execution_count": 34,
   "metadata": {},
   "outputs": [],
   "source": [
    "def baseline_recommandation_model(user_id, data=train):\n",
    "    most_read_articles = data[['user_id', 'click_article_id']].groupby('click_article_id').agg({'user_id': pd.Series.nunique}).sort_values('user_id', ascending=False).head()\n",
    "    return list(most_read_articles.index)\n",
    "\n",
    "def get_article_read(data:pd.DataFrame, user_id:int, user_column:str = 'user_id', article_column:str = 'article_id', number_of_article:int = 0, first:bool = True):\n",
    "    if user_column not in data.columns:\n",
    "        return ValueError(f\"{user_column} not in dataframe provided\")\n",
    "    elif article_column not in data.columns:\n",
    "        return ValueError(f\"{article_column} not in dataframe provided\")\n",
    "    \n",
    "    user_ids = list(data[user_column].unique())\n",
    "    if user_id not in user_ids:\n",
    "        return ValueError(f\"{user_id} not in user in dataframe provided\")\n",
    "    \n",
    "    if number_of_article < 0:\n",
    "        return ValueError(f\"{number_of_article} must be >= 0\")\n",
    "    \n",
    "    user_article_read = list(data.loc[data['user_id'] == user_id, article_column].unique())\n",
    "\n",
    "    if first:\n",
    "        if number_of_article == 0 or number_of_article >= len(user_article_read):\n",
    "            return user_article_read\n",
    "        else:\n",
    "            return user_article_read[:number_of_article]\n",
    "    else:\n",
    "        if number_of_article == 0 or number_of_article >= len(user_article_read):\n",
    "            return user_article_read\n",
    "        else:\n",
    "            return user_article_read[-number_of_article:]"
   ]
  },
  {
   "cell_type": "code",
   "execution_count": 35,
   "metadata": {},
   "outputs": [
    {
     "name": "stdout",
     "output_type": "stream",
     "text": [
      "CPU times: user 6min 32s, sys: 15.3 s, total: 6min 48s\n",
      "Wall time: 6min 57s\n"
     ]
    }
   ],
   "source": [
    "%%time\n",
    "most_read_articles = train[['user_id', 'click_article_id']].groupby('click_article_id').agg({'user_id': pd.Series.nunique}).sort_values('user_id', ascending=False).head()\n",
    "baseline_recommandation = list(most_read_articles.index)\n",
    "results = list()\n",
    "for user_id in unique_users:\n",
    "    reality = get_article_read(data=test, user_id=user_id, number_of_article=5)\n",
    "    if any(recommandation in reality for recommandation in baseline_recommandation):\n",
    "        results.append(1)\n",
    "    else:\n",
    "        results.append(0)"
   ]
  },
  {
   "cell_type": "code",
   "execution_count": 40,
   "metadata": {},
   "outputs": [
    {
     "data": {
      "text/plain": [
       "1915"
      ]
     },
     "execution_count": 40,
     "metadata": {},
     "output_type": "execute_result"
    }
   ],
   "source": [
    "sum(results) "
   ]
  },
  {
   "cell_type": "markdown",
   "metadata": {},
   "source": [
    "# Content based model"
   ]
  },
  {
   "cell_type": "code",
   "execution_count": 41,
   "metadata": {},
   "outputs": [],
   "source": [
    "with open('prepare_data/articles_embeddings.pickle', 'rb') as file:\n",
    "    embedding = pickle.load(file)\n",
    "\n",
    "train_embedding = embedding[unique_articles_train]"
   ]
  },
  {
   "cell_type": "code",
   "execution_count": 42,
   "metadata": {},
   "outputs": [],
   "source": [
    "# Pre-computation before the loop\n",
    "# Mapping each user to their last read article in the training dataset\n",
    "similarities = cosine_similarity(train_embedding)\n",
    "last_read_article_by_user = train.groupby('user_id')['article_id'].last()"
   ]
  },
  {
   "cell_type": "markdown",
   "metadata": {},
   "source": [
    "Among the 364047 articles in `embedding`, `train_embedding` only keeps 11228. In order to be able to get original ID of articles, I need to map them to new ID. "
   ]
  },
  {
   "cell_type": "code",
   "execution_count": 45,
   "metadata": {},
   "outputs": [],
   "source": [
    "def similarity_score(idx1:int, idx2:int, map:list = unique_articles_train, cosinus_similarities=similarities):\n",
    "    index1 = map.index(idx1)\n",
    "    index2 = map.index(idx2)\n",
    "    return cosinus_similarities[index1, index2]"
   ]
  },
  {
   "cell_type": "code",
   "execution_count": 43,
   "metadata": {},
   "outputs": [],
   "source": [
    "def get_unread_article(user_id:int, data=train):\n",
    "    read_articles = set(get_article_read(data=data, user_id=user_id))\n",
    "    unread_articles = set(unique_articles_train) - read_articles\n",
    "    return list(unread_articles)"
   ]
  },
  {
   "cell_type": "code",
   "execution_count": 46,
   "metadata": {},
   "outputs": [],
   "source": [
    "def recommandation_based_on_n_last_read(user_id, n:int = 0):\n",
    "    n_last_read_articles = get_article_read(data=train, user_id=user_id, number_of_article=n, first=False)\n",
    "    unread_articles = get_unread_article(user_id)\n",
    "\n",
    "    articles_similarities = [[unread_article] + [similarity_score(read_article, unread_article) for read_article in n_last_read_articles] for unread_article in unread_articles]\n",
    "    \n",
    "    articles_similarities_sum = [(article[0], sum(article[1:])) for article in articles_similarities]\n",
    "\n",
    "    sorted_articles = sorted(articles_similarities_sum, key=lambda x: x[1], reverse=True)\n",
    "    top_5_articles = sorted_articles[:5]\n",
    "\n",
    "    return [article[0] for article in top_5_articles]"
   ]
  },
  {
   "cell_type": "code",
   "execution_count": 47,
   "metadata": {},
   "outputs": [],
   "source": [
    "def evaluation_metric_n_first_article(user_id, n:int = 5):\n",
    "    recommandations = recommandation_based_on_n_last_read(user_id, n=5)\n",
    "    reality = get_article_read(data=test, user_id=user_id, number_of_article=n)\n",
    "    if any(recommandation in reality for recommandation in recommandations):\n",
    "        return 1\n",
    "    else:\n",
    "        return 0"
   ]
  },
  {
   "cell_type": "code",
   "execution_count": 13,
   "metadata": {},
   "outputs": [],
   "source": [
    "import concurrent.futures\n",
    "from tqdm import tqdm\n",
    "\n",
    "def evaluate_all_users(user_ids):\n",
    "    results = {}\n",
    "    with concurrent.futures.ThreadPoolExecutor() as executor:\n",
    "        futures = {executor.submit(evaluation_metric_n_first_article, user_id): user_id for user_id in user_ids}\n",
    "\n",
    "        for future in tqdm(concurrent.futures.as_completed(futures), total=len(futures), desc=\"Evaluating users\"):\n",
    "            user_id = futures[future]\n",
    "            try:\n",
    "                results[user_id] = future.result()\n",
    "            except Exception as e:\n",
    "                print(f\"Error processing user {user_id}: {e}\")\n",
    "    return results"
   ]
  },
  {
   "cell_type": "code",
   "execution_count": 14,
   "metadata": {},
   "outputs": [
    {
     "name": "stderr",
     "output_type": "stream",
     "text": [
      "Evaluating users: 100%|██████████| 75466/75466 [48:10:14<00:00,  2.30s/it]      \n"
     ]
    }
   ],
   "source": [
    "#results = evaluate_all_users(unique_users)\n",
    "#sum(list(results.values()))"
   ]
  },
  {
   "cell_type": "code",
   "execution_count": 23,
   "metadata": {},
   "outputs": [
    {
     "data": {
      "text/plain": [
       "1472"
      ]
     },
     "execution_count": 23,
     "metadata": {},
     "output_type": "execute_result"
    }
   ],
   "source": [
    "results = pd.read_csv('results.csv')"
   ]
  },
  {
   "cell_type": "code",
   "execution_count": 193,
   "metadata": {},
   "outputs": [
    {
     "data": {
      "text/plain": [
       "360"
      ]
     },
     "execution_count": 193,
     "metadata": {},
     "output_type": "execute_result"
    }
   ],
   "source": [
    "results['prediction_result'].sum()"
   ]
  },
  {
   "cell_type": "markdown",
   "metadata": {},
   "source": [
    "# Collaborative filtering Model Base"
   ]
  },
  {
   "cell_type": "code",
   "execution_count": 48,
   "metadata": {},
   "outputs": [],
   "source": [
    "def mapping(data, user_column:str = 'user_id', article_column:str = 'article_id'):\n",
    "    user_ids = list(data[user_column].unique())\n",
    "    user_id_to_index = {user_column: idx for idx, user_column in enumerate(user_ids)}\n",
    "\n",
    "    article_ids = list(data[article_column].unique())\n",
    "    article_id_to_index = {article_column: idx for idx, article_column in enumerate(article_ids)}\n",
    "\n",
    "    return user_id_to_index, article_id_to_index\n",
    "\n",
    "def sparse_matrix(data, user_column:str = 'user_id', article_column:str = 'article_id'):\n",
    "    user_ids = list(data[user_column].unique())\n",
    "    article_ids = list(data[article_column].unique())\n",
    "    matrice_base = np.ones(len(train), dtype=int)\n",
    "    user_column_to_index, article_column_to_index = mapping(data=data)\n",
    "    row_indices = train[user_column].map(user_column_to_index)\n",
    "    col_indices = train[article_column].map(article_column_to_index)\n",
    "    ratings_matrix = csr_matrix((matrice_base, (row_indices, col_indices)), shape=(len(user_ids), len(article_ids)))\n",
    "    return ratings_matrix"
   ]
  },
  {
   "cell_type": "code",
   "execution_count": 49,
   "metadata": {},
   "outputs": [],
   "source": [
    "with open(\"liste_client.pkl\", \"wb\") as file:\n",
    "    pickle.dump(list(train['user_id'].unique()), file)"
   ]
  },
  {
   "cell_type": "code",
   "execution_count": 50,
   "metadata": {},
   "outputs": [],
   "source": [
    "import csv\n",
    "with open(\"liste_clients.csv\", 'w', newline='') as myfile:\n",
    "     wr = csv.writer(myfile)\n",
    "     wr.writerow(list(train['user_id'].unique()))"
   ]
  },
  {
   "cell_type": "code",
   "execution_count": 51,
   "metadata": {},
   "outputs": [
    {
     "name": "stdout",
     "output_type": "stream",
     "text": [
      "CPU times: user 19.8 ms, sys: 2.08 ms, total: 21.8 ms\n",
      "Wall time: 20.5 ms\n"
     ]
    }
   ],
   "source": [
    "%%time\n",
    "# Création des mappings\n",
    "user_id_to_index, article_id_to_index = mapping(data=train)"
   ]
  },
  {
   "cell_type": "code",
   "execution_count": 52,
   "metadata": {},
   "outputs": [],
   "source": [
    "# Construction de la matrice creuse en utilisant les mappings\n",
    "ratings_matrix = sparse_matrix(data=train)"
   ]
  },
  {
   "cell_type": "code",
   "execution_count": 53,
   "metadata": {},
   "outputs": [],
   "source": [
    "# Application SVD\n",
    "n_components = 100\n",
    "svd = TruncatedSVD(n_components=n_components, random_state=42)\n",
    "user_features = svd.fit_transform(ratings_matrix)\n",
    "\n",
    "# user_features contient maintenant les représentations réduites des utilisateurs"
   ]
  },
  {
   "cell_type": "code",
   "execution_count": 54,
   "metadata": {},
   "outputs": [],
   "source": [
    "h5file = h5py.File(\"user_features.h5\", 'w')\n",
    "h5file.create_dataset(\"user_features_100\", data=user_features)\n",
    "h5file.close()"
   ]
  },
  {
   "cell_type": "code",
   "execution_count": 55,
   "metadata": {},
   "outputs": [],
   "source": [
    "# Calcul scores prédits pour chaque article pour chaque utilisateur\n",
    "predicted_scores = np.dot(user_features, svd.components_)\n",
    "\n",
    "# Normaliser les scores avec une fonction sigmoïde\n",
    "predicted_scores = 1 / (1 + np.exp(-predicted_scores))"
   ]
  },
  {
   "cell_type": "code",
   "execution_count": 57,
   "metadata": {},
   "outputs": [],
   "source": [
    "def predict_top_n_articles(data, user_id, svd, user_features, n:int = 5, article_column:str = 'article_id'):\n",
    "    user_id_to_index, article_id_to_index = mapping(data=data)\n",
    "    article_ids = list(data[article_column].unique())\n",
    "    user_index = user_id_to_index[user_id]\n",
    "    read_articles = get_article_read(data=train, user_id=user_id)\n",
    "\n",
    "    # Convertir les IDs d'articles lus en indices\n",
    "    read_article_indices = [article_id_to_index.get(article_id, None) for article_id in read_articles if article_id in article_id_to_index]\n",
    "    \n",
    "    # Calculer les scores pour tous les articles, en excluant ceux déjà lus\n",
    "    scores = np.dot(user_features[user_index], svd.components_)\n",
    "    # Normaliser les scores avec une fonction sigmoïde\n",
    "    scores = 1 / (1 + np.exp(-scores))\n",
    "    scores[read_article_indices] = -np.inf  # Exclusion des articles lus\n",
    "    \n",
    "    # Obtenir les indices des articles avec les plus hauts scores\n",
    "    top_article_indices = np.argsort(scores)[-n:][::-1]\n",
    "    \n",
    "    # Convertir les indices en article_id\n",
    "    top_articles = [article_ids[idx] for idx in top_article_indices]\n",
    "    \n",
    "    return top_articles"
   ]
  },
  {
   "cell_type": "code",
   "execution_count": 58,
   "metadata": {},
   "outputs": [
    {
     "data": {
      "text/plain": [
       "[119592, 286321, 68866, 338351, 284410]"
      ]
     },
     "execution_count": 58,
     "metadata": {},
     "output_type": "execute_result"
    }
   ],
   "source": [
    "predict_top_n_articles(data=train, user_id=1, svd=svd, user_features=user_features)"
   ]
  },
  {
   "cell_type": "code",
   "execution_count": 63,
   "metadata": {},
   "outputs": [],
   "source": [
    "def collaborative_filtering_evaluation(user_ids):\n",
    "    results = 0\n",
    "    for user in user_ids:\n",
    "        predictions = predict_top_n_articles(data=train, user_id=user, svd=svd, user_features=user_features)\n",
    "        reality = get_article_read(data=test, user_id=user, number_of_article=5)\n",
    "        if any(recommandation in reality for recommandation in predictions):\n",
    "            results += 1\n",
    "\n",
    "    return results\n",
    "\n",
    "results = collaborative_filtering_evaluation(unique_users)"
   ]
  },
  {
   "cell_type": "code",
   "execution_count": 66,
   "metadata": {},
   "outputs": [
    {
     "data": {
      "text/plain": [
       "3.0908735077304454"
      ]
     },
     "execution_count": 66,
     "metadata": {},
     "output_type": "execute_result"
    }
   ],
   "source": [
    "2369 *100 / len(users)"
   ]
  },
  {
   "cell_type": "code",
   "execution_count": null,
   "metadata": {},
   "outputs": [],
   "source": []
  }
 ],
 "metadata": {
  "kernelspec": {
   "display_name": "Python 3",
   "language": "python",
   "name": "python3"
  },
  "language_info": {
   "codemirror_mode": {
    "name": "ipython",
    "version": 3
   },
   "file_extension": ".py",
   "mimetype": "text/x-python",
   "name": "python",
   "nbconvert_exporter": "python",
   "pygments_lexer": "ipython3",
   "version": "3.12.4"
  }
 },
 "nbformat": 4,
 "nbformat_minor": 2
}
